{
  "cells": [
    {
      "cell_type": "markdown",
      "source": [
        "Introducción\n",
        "===\n",
        "\n",
        "**Juan David Velásquez Henao**  \n",
        "jdvelasq@unal.edu.co   \n",
        "Universidad Nacional de Colombia, Sede Medellín  \n",
        "Facultad de Minas  \n",
        "Medellín, Colombia\n",
        "\n",
        "---\n",
        "\n",
        "Haga click [aquí](https://github.com/jdvelasq/IPython-for-data-science/blob/master/00-intro.ipynb) para acceder a la última versión online\n",
        "\n",
        "Haga click [aquí](http://nbviewer.jupyter.org/github/jdvelasq/IPython-for-data-science/blob/master/00-intro.ipynb) para ver la última versión online en `nbviewer`. \n",
        "\n---"
      ],
      "metadata": {}
    },
    {
      "cell_type": "markdown",
      "source": [
        "# Distribuciones\n",
        "\n\n",
        "* Parte de los sistemas operativos macOS y Linux.\n",
        "\n\n",
        "* Python Software Foundation (https://www.python.org)\n",
        "\n\n",
        "* Enthought Canopy (https://www.enthought.com)\n",
        "\n\n",
        "* Anaconda (https://www.continuum.io)\n",
        "\n"
      ],
      "metadata": {
        "slideshow": {
          "slide_type": "slide"
        }
      }
    },
    {
      "cell_type": "markdown",
      "source": [
        "# Ejecución de Python\n",
        "\n\n",
        "* Ejecución de archivos de comandos.\n",
        "\n\n",
        "* Desde Atom usando platformio\n",
        "\n\n",
        "* Ejecución interactiva de Python\n",
        "\n\n",
        "* IPython y magic commands\n",
        "\n\n",
        "* Jupyter\n"
      ],
      "metadata": {
        "collapsed": true,
        "slideshow": {
          "slide_type": "slide"
        }
      }
    },
    {
      "cell_type": "markdown",
      "source": [
        "# IPython y Magic Cells (o magic commands)\n",
        "\n",
        "Consulte la guía del usuario de los magic commands [aquí](https://ipython.org/ipython-doc/3/interactive/magics.html#magic-edit)\n"
      ],
      "metadata": {
        "slideshow": {
          "slide_type": "slide"
        }
      }
    },
    {
      "cell_type": "code",
      "source": [
        "%ls"
      ],
      "outputs": [
        {
          "output_type": "stream",
          "name": "stdout",
          "text": [
            "\u001b[34mAnaconda white papers\u001b[m\u001b[m/              IPy-09-taller-1.ipynb\r\n",
            "IPy-00-intro.ipynb                  IPy-10-taller-2.ipynb\r\n",
            "\u001b[31mIPy-01-uso-interactivo.ipynb\u001b[m\u001b[m*       LICENSE\r\n",
            "\u001b[31mIPy-02-programacion.ipynb\u001b[m\u001b[m*          \u001b[34mfiles\u001b[m\u001b[m/\r\n",
            "\u001b[31mIPy-03-extraccion.ipynb\u001b[m\u001b[m*            \u001b[34mimages\u001b[m\u001b[m/\r\n",
            "\u001b[31mIPy-04-transformacion.ipynb\u001b[m\u001b[m*        intro-ipython.pptx\r\n",
            "\u001b[31mIPy-05-visualizacion.ipynb\u001b[m\u001b[m*         \u001b[34mprecios-energia\u001b[m\u001b[m/\r\n",
            "\u001b[31mIPy-06-ipywidgets.ipynb\u001b[m\u001b[m*            readme.md\r\n",
            "\u001b[31mIPy-07-markdown-y-html.ipynb\u001b[m\u001b[m*       ~$intro-ipython.pptx\r\n",
            "\u001b[31mIPy-08-graficos-interactivos.ipynb\u001b[m\u001b[m*\r\n"
          ]
        }
      ],
      "execution_count": 2,
      "metadata": {
        "slideshow": {
          "slide_type": "fragment"
        }
      }
    },
    {
      "cell_type": "code",
      "source": [
        "%%sh\n",
        "ls"
      ],
      "outputs": [
        {
          "output_type": "stream",
          "name": "stdout",
          "text": [
            "Anaconda white papers\n",
            "IPy-00-intro.ipynb\n",
            "IPy-01-uso-interactivo.ipynb\n",
            "IPy-02-programacion.ipynb\n",
            "IPy-03-extraccion.ipynb\n",
            "IPy-04-transformacion.ipynb\n",
            "IPy-05-visualizacion.ipynb\n",
            "IPy-06-ipywidgets.ipynb\n",
            "IPy-07-markdown-y-html.ipynb\n",
            "IPy-08-graficos-interactivos.ipynb\n",
            "IPy-09-taller-1.ipynb\n",
            "IPy-10-taller-2.ipynb\n",
            "LICENSE\n",
            "files\n",
            "images\n",
            "intro-ipython.pptx\n",
            "precios-energia\n",
            "readme.md\n",
            "~$intro-ipython.pptx\n"
          ]
        }
      ],
      "execution_count": 3,
      "metadata": {
        "slideshow": {
          "slide_type": "fragment"
        }
      }
    },
    {
      "cell_type": "code",
      "source": [
        "%%writefile hola.py\n",
        "print(\"hola mundo feliz desde Python\")"
      ],
      "outputs": [
        {
          "output_type": "stream",
          "name": "stdout",
          "text": [
            "Writing hola.py\n"
          ]
        }
      ],
      "execution_count": 4,
      "metadata": {
        "slideshow": {
          "slide_type": "slide"
        }
      }
    },
    {
      "cell_type": "code",
      "source": [
        "%%sh \n",
        "python hola.py"
      ],
      "outputs": [
        {
          "output_type": "stream",
          "name": "stdout",
          "text": [
            "hola mundo feliz desde Python\n"
          ]
        }
      ],
      "execution_count": 5,
      "metadata": {}
    },
    {
      "cell_type": "code",
      "source": [
        "%%sh\n",
        "rm hola.py"
      ],
      "outputs": [],
      "execution_count": 6,
      "metadata": {
        "collapsed": true
      }
    },
    {
      "cell_type": "code",
      "source": [
        "%edit"
      ],
      "outputs": [
        {
          "output_type": "stream",
          "name": "stdout",
          "text": [
            "IPython will make a temporary file named: /var/folders/_d/hh9q2ytd77b_46yx46yb5j2m0000gn/T/ipython_edit_ov4fjame/ipython_edit_fwz65fbz.py\n"
          ]
        }
      ],
      "execution_count": 3,
      "metadata": {}
    },
    {
      "cell_type": "code",
      "source": [
        "%%sh\n",
        "rm hola.py"
      ],
      "outputs": [],
      "execution_count": null,
      "metadata": {
        "collapsed": true
      }
    },
    {
      "cell_type": "markdown",
      "source": [
        "---"
      ],
      "metadata": {}
    },
    {
      "cell_type": "markdown",
      "source": [
        "Introducción\n",
        "===\n",
        "\n",
        "**Juan David Velásquez Henao**  \n",
        "jdvelasq@unal.edu.co   \n",
        "Universidad Nacional de Colombia, Sede Medellín  \n",
        "Facultad de Minas  \n",
        "Medellín, Colombia\n",
        "\n",
        "---\n",
        "\n",
        "Haga click [aquí](https://github.com/jdvelasq/IPython-for-data-science/blob/master/00-intro.ipynb) para acceder a la última versión online\n",
        "\n",
        "Haga click [aquí](http://nbviewer.jupyter.org/github/jdvelasq/IPython-for-data-science/blob/master/00-intro.ipynb) para ver la última versión online en `nbviewer`. \n",
        "\n---"
      ],
      "metadata": {}
    }
  ],
  "metadata": {
    "anaconda-cloud": {},
    "celltoolbar": "Slideshow",
    "kernelspec": {
      "name": "python3",
      "language": "python",
      "display_name": "Python 3"
    },
    "language_info": {
      "name": "python",
      "version": "3.6.3",
      "mimetype": "text/x-python",
      "codemirror_mode": {
        "name": "ipython",
        "version": 3
      },
      "pygments_lexer": "ipython3",
      "nbconvert_exporter": "python",
      "file_extension": ".py"
    },
    "kernel_info": {
      "name": "python3"
    },
    "nteract": {
      "version": "0.7.1"
    }
  },
  "nbformat": 4,
  "nbformat_minor": 1
}