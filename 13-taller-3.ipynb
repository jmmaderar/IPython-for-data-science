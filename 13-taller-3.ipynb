{
  "cells": [
    {
      "cell_type": "markdown",
      "source": [
        "Taller 3 - Mercados de Energía\n",
        "===\n",
        "\n",
        "**Juan David Velásquez Henao**  \n",
        "jdvelasq@unal.edu.co   \n",
        "Universidad Nacional de Colombia, Sede Medellín  \n",
        "Facultad de Minas  \n",
        "Medellín, Colombia\n",
        "\n",
        "---\n",
        "\n",
        "Haga click [aquí](https://github.com/jdvelasq/IPython-for-data-science/blob/master/13-taller-3.ipynb) para acceder a la última versión online\n",
        "\n",
        "Haga click [aquí](http://nbviewer.jupyter.org/github/jdvelasq/IPython-for-data-science/blob/master/13-taller-3.ipynb) para ver la última versión online en `nbviewer`. \n",
        "\n---"
      ],
      "metadata": {}
    },
    {
      "cell_type": "markdown",
      "source": [
        "# Instrucciones"
      ],
      "metadata": {}
    },
    {
      "cell_type": "markdown",
      "source": [
        "En la carpeta 'precios-energia' se encuentran los archivos 'Precio_Bolsa_Nacional_($kwh)_'*'.xls' en formato de Microsoft Excel, los cuales contienen los precios históricos horarios de la electricidad para el mercado eléctrico Colombiano entre los años 1995 y 2017 en COL-PESOS/kWh. A partir de la información suministrada resuelva los siguientes puntos usando el lenguaje de programación Python. "
      ],
      "metadata": {}
    },
    {
      "cell_type": "markdown",
      "source": [
        "# Preguntas"
      ],
      "metadata": {}
    },
    {
      "cell_type": "markdown",
      "source": [
        "**1.--** Lea los archivos y cree una tabla única concatenando la información para cada uno de los años. Debe transformar la tabla de tal forma que quede con las columnas `Fecha`, `Hora` y `Precio` (únicamente tres columnas).  Imprima el encabezamiento de la tabla usando `head()`. "
      ],
      "metadata": {}
    },
    {
      "cell_type": "markdown",
      "source": [
        "**2.--** Compute e imprima el número de registros con datos faltantes."
      ],
      "metadata": {}
    },
    {
      "cell_type": "markdown",
      "source": [
        "**3.--** Compute e imprima el número de registros duplicados."
      ],
      "metadata": {}
    },
    {
      "cell_type": "markdown",
      "source": [
        "**4.--** Elimine los registros con datos duplicados o datos faltantes, e imprima la cantidad de registros que quedan (registros completos)."
      ],
      "metadata": {}
    },
    {
      "cell_type": "markdown",
      "source": [
        "**5.--** Compute y grafique el precio primedio diario."
      ],
      "metadata": {}
    },
    {
      "cell_type": "markdown",
      "source": [
        "**6.--** Compute y grafique el precio máximo por mes."
      ],
      "metadata": {}
    },
    {
      "cell_type": "markdown",
      "source": [
        "**7.--** Compute y grafique el precio mínimo mensual."
      ],
      "metadata": {}
    },
    {
      "cell_type": "markdown",
      "source": [
        "**8.--** Haga un gráfico para comparar el precio máximo del mes (para cada mes) y el precio promedio mensual."
      ],
      "metadata": {}
    },
    {
      "cell_type": "markdown",
      "source": [
        "**9.--** Haga un histograma que muestre a que horas se produce el máximo precio diario para los días laborales."
      ],
      "metadata": {}
    },
    {
      "cell_type": "markdown",
      "source": [
        "**10.--** Haga un histograma que muestre a que horas se produce el máximo precio diario para los días sabado."
      ],
      "metadata": {}
    },
    {
      "cell_type": "markdown",
      "source": [
        "**11.--** Haga un histograma que muestre a que horas se produce el máximo precio diario para los días domingo."
      ],
      "metadata": {}
    },
    {
      "cell_type": "markdown",
      "source": [
        "**12.--** Imprima una tabla con la fecha y el valor más bajo por año del precio de bolsa."
      ],
      "metadata": {}
    },
    {
      "cell_type": "markdown",
      "source": [
        "**13.--** Haga una gráfica en que se muestre el precio promedio diario y el precio promedio mensual."
      ],
      "metadata": {}
    },
    {
      "cell_type": "markdown",
      "source": [
        "---"
      ],
      "metadata": {}
    },
    {
      "cell_type": "markdown",
      "source": [
        "Taller 3 - Mercados de Energía\n",
        "===\n",
        "\n",
        "**Juan David Velásquez Henao**  \n",
        "jdvelasq@unal.edu.co   \n",
        "Universidad Nacional de Colombia, Sede Medellín  \n",
        "Facultad de Minas  \n",
        "Medellín, Colombia\n",
        "\n",
        "---\n",
        "\n",
        "Haga click [aquí](https://github.com/jdvelasq/IPython-for-data-science/blob/master/13-taller-3.ipynb) para acceder a la última versión online\n",
        "\n",
        "Haga click [aquí](http://nbviewer.jupyter.org/github/jdvelasq/IPython-for-data-science/blob/master/13-taller-3.ipynb) para ver la última versión online en `nbviewer`. \n",
        "\n---"
      ],
      "metadata": {}
    }
  ],
  "metadata": {
    "anaconda-cloud": {},
    "kernelspec": {
      "name": "python3",
      "language": "python",
      "display_name": "Python 3"
    },
    "language_info": {
      "name": "python",
      "version": "3.6.3",
      "mimetype": "text/x-python",
      "codemirror_mode": {
        "name": "ipython",
        "version": 3
      },
      "pygments_lexer": "ipython3",
      "nbconvert_exporter": "python",
      "file_extension": ".py"
    },
    "kernel_info": {
      "name": "python3"
    },
    "nteract": {
      "version": "0.7.1"
    }
  },
  "nbformat": 4,
  "nbformat_minor": 1
}