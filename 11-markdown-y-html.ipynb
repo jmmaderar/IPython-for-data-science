{
  "cells": [
    {
      "cell_type": "markdown",
      "source": [
        "Markdown y html en Jupyter notebooks\n",
        "===\n",
        "\n",
        "**Juan David Velásquez Henao**  \n",
        "jdvelasq@unal.edu.co   \n",
        "Universidad Nacional de Colombia, Sede Medellín  \n",
        "Facultad de Minas  \n",
        "Medellín, Colombia\n",
        "\n",
        "---\n",
        "\n",
        "Haga click [aquí](https://github.com/jdvelasq/IPython-for-data-science/blob/master/11-markdown-y-html.ipynb) para acceder a la última versión online\n",
        "\n",
        "Haga click [aquí](http://nbviewer.jupyter.org/github/jdvelasq/IPython-for-data-science/blob/master/11-markdown-y-html.ipynb) para ver la última versión online en `nbviewer`. \n",
        "\n---"
      ],
      "metadata": {}
    },
    {
      "cell_type": "markdown",
      "source": [
        "**Bibliografía**.\n",
        "\n",
        "> La misma sintaxis se aplica a los documentos de RStudio  \n",
        "\n",
        "> Basado en el sitio https://daringfireball.net/projects/markdown/basics  y  http://jupyter-notebook.readthedocs.org/en/latest/examples/Notebook/rstversions/Working%20With%20Markdown%20Cells.html\n",
        "\n",
        "> Para aprender más sobre html y páginas web haga click [aquí](http://www.w3schools.com)\n",
        "\n> Los notebooks pueden hacerse disponibles en internet (solo lectura) usando: http://nbviewer.jupyter.org"
      ],
      "metadata": {}
    },
    {
      "cell_type": "markdown",
      "source": [
        "**Nota.**\n",
        "> IPython tiene opciones para visualizar salidas en latex y html (entre otros). Haga click [aquí](https://github.com/ipython/ipython-in-depth/blob/1905adca735c567884c5db8c1b6295b0e1d7a218/examples/IPython%20Kernel/Rich%20Output.ipynb) para acceder a un tutorial. "
      ],
      "metadata": {}
    },
    {
      "cell_type": "markdown",
      "source": [
        "<hr style=\"height:3px\">\n",
        "# Parágrafos, encabezados y citas"
      ],
      "metadata": {}
    },
    {
      "cell_type": "markdown",
      "source": [
        "<center>**Markdown**</center>"
      ],
      "metadata": {}
    },
    {
      "cell_type": "raw",
      "source": [
        "Encabezado de primer nivel\n",
        "==\n",
        "\n",
        "Encabezado de segundo nivel\n",
        "--\n",
        "\n### Encabezado de tercer nivel"
      ],
      "metadata": {}
    },
    {
      "cell_type": "markdown",
      "source": [
        "<center>**HTML**</center>"
      ],
      "metadata": {}
    },
    {
      "cell_type": "raw",
      "source": [
        "<h1>Encabezado de primer nivel</h1>\n",
        "\n",
        "<h2>Encabezado de segundo nivel</h2>\n",
        "\n<h3>Encabezado de tercer nivel</h3>"
      ],
      "metadata": {}
    },
    {
      "cell_type": "markdown",
      "source": [
        "<center> **Resultado**"
      ],
      "metadata": {}
    },
    {
      "cell_type": "markdown",
      "source": [
        "Encabezado de primer nivel\n",
        "==\n",
        "\n\n",
        "Encabezado de segundo nivel\n",
        "--\n",
        "\n### Encabezado de tercer nivel"
      ],
      "metadata": {}
    },
    {
      "cell_type": "markdown",
      "source": [
        "---\n",
        "<center>**Markdown**</center>"
      ],
      "metadata": {}
    },
    {
      "cell_type": "raw",
      "source": [
        "Markdown es un lenguaje de marcado ligero creado por John Gruber que \n",
        "trata de conseguir la máxima legibilidad y facilidad de publicación \n",
        "tanto en sus forma de entrada como de salida, inspirándose en \n",
        "muchas convenciones existentes para marcar mensajes de correo \n",
        "electrónico usando texto plano. \n",
        "\n",
        "> Markdown es un lenguaje de marcado ligero creado por John Gruber que \n",
        "trata de conseguir la máxima legibilidad y facilidad de publicación \n",
        "tanto en sus forma de entrada como de salida, inspirándose en \n",
        "muchas convenciones existentes para marcar mensajes de correo \n",
        "electrónico usando texto plano. "
      ],
      "metadata": {}
    },
    {
      "cell_type": "markdown",
      "source": [
        "<center>**HTML**</center>"
      ],
      "metadata": {}
    },
    {
      "cell_type": "raw",
      "source": [
        "<p>Markdown es un lenguaje de marcado ligero creado por John Gruber que \n",
        "trata de conseguir la máxima legibilidad y facilidad de publicación \n",
        "tanto en sus forma de entrada como de salida, inspirándose en \n",
        "muchas convenciones existentes para marcar mensajes de correo \n",
        "electrónico usando texto plano. </p>\n",
        "\n",
        "<blockquote>Markdown es un lenguaje de marcado ligero creado por John Gruber que \n",
        "trata de conseguir la máxima legibilidad y facilidad de publicación \n",
        "tanto en sus forma de entrada como de salida, inspirándose en \n",
        "muchas convenciones existentes para marcar mensajes de correo \n",
        "electrónico usando texto plano.\n",
        "</blockquote>\n",
        "\n",
        "<blockquote><div style=\"background-color:#DCDCDC; color:#000000; font-style: normal; font-family: Georgia;\">\n",
        "Markdown es un lenguaje de marcado ligero creado por John Gruber que \n",
        "trata de conseguir la máxima legibilidad y facilidad de publicación \n",
        "tanto en sus forma de entrada como de salida, inspirándose en \n",
        "muchas convenciones existentes para marcar mensajes de correo \n",
        "electrónico usando texto plano.\n",
        "</div></blockquote>\n"
      ],
      "metadata": {
        "collapsed": true
      }
    },
    {
      "cell_type": "markdown",
      "source": [
        "<center> **Resultado**"
      ],
      "metadata": {}
    },
    {
      "cell_type": "markdown",
      "source": [
        "<p>Markdown es un lenguaje de marcado ligero creado por John Gruber que \n",
        "trata de conseguir la máxima legibilidad y facilidad de publicación \n",
        "tanto en sus forma de entrada como de salida, inspirándose en \n",
        "muchas convenciones existentes para marcar mensajes de correo \n",
        "electrónico usando texto plano. </p>\n",
        "\n",
        "<blockquote>Markdown es un lenguaje de marcado ligero creado por John Gruber que \n",
        "trata de conseguir la máxima legibilidad y facilidad de publicación \n",
        "tanto en sus forma de entrada como de salida, inspirándose en \n",
        "muchas convenciones existentes para marcar mensajes de correo \n",
        "electrónico usando texto plano.\n",
        "</blockquote>\n",
        "\n",
        "<blockquote><div style=\"background-color:#DCDCDC; color:#000000; font-style: normal; font-family: Georgia;\">\n",
        "Markdown es un lenguaje de marcado ligero creado por John Gruber que \n",
        "trata de conseguir la máxima legibilidad y facilidad de publicación \n",
        "tanto en sus forma de entrada como de salida, inspirándose en \n",
        "muchas convenciones existentes para marcar mensajes de correo \n",
        "electrónico usando texto plano.\n",
        "</div></blockquote>"
      ],
      "metadata": {}
    },
    {
      "cell_type": "markdown",
      "source": [
        "<hr style=\"height:3px\">\n",
        "# Enfasis"
      ],
      "metadata": {}
    },
    {
      "cell_type": "markdown",
      "source": [
        "<center>**Markdown**</center>"
      ],
      "metadata": {}
    },
    {
      "cell_type": "raw",
      "source": [
        "Algunas de estas palabras son *enfatizadas*.\n",
        "\n",
        "Algunas de estas palabras también son _enfatizadas_.\n",
        "\n",
        "Use dos asteriscos para **énfasis fuerte**.\n",
        "\n",
        "O si lo prefiere dos __guiones bajos__.\n",
        "\nTambién se puede ~~tachar~~ palabras"
      ],
      "metadata": {}
    },
    {
      "cell_type": "markdown",
      "source": [
        "<center>**HTML**</center>"
      ],
      "metadata": {}
    },
    {
      "cell_type": "raw",
      "source": [
        "<p>Algunas de estas palabras son <em>enfatizadas</em>.</p>\n",
        "\n",
        "<p>Algunas de estas palabras también son <em>enfatizadas</em>.</p>\n",
        "\n",
        "<p>Use dos asteriscos para <strong>énfasis fuerte</strong>.</p>\n",
        "\n<p>O si lo prefiere dos <strong>guiones bajos</strong>.</p>"
      ],
      "metadata": {}
    },
    {
      "cell_type": "markdown",
      "source": [
        "<center> **Resultado**"
      ],
      "metadata": {}
    },
    {
      "cell_type": "markdown",
      "source": [
        "<p>Algunas de estas palabras son <em>enfatizadas</em>.</p>\n",
        "\n",
        "<p>Algunas de estas palabras también son <em>enfatizadas</em>.</p>\n",
        "\n",
        "<p>Use dos asteriscos para <strong>énfasis fuerte</strong>.</p>\n",
        "\n<p>O si lo prefiere dos <strong>guiones bajos</strong>.</p>"
      ],
      "metadata": {}
    },
    {
      "cell_type": "markdown",
      "source": [
        "<hr style=\"height:3px\">\n",
        "# Listas sin numeración"
      ],
      "metadata": {}
    },
    {
      "cell_type": "markdown",
      "source": [
        "<center>**Markdown**</center>"
      ],
      "metadata": {}
    },
    {
      "cell_type": "raw",
      "source": [
        "* Uno\n",
        "    + a\n",
        "    + b\n",
        "    + c\n",
        "* Dos\n",
        "* Tres"
      ],
      "metadata": {}
    },
    {
      "cell_type": "markdown",
      "source": [
        "* Uno\n",
        "    + a\n",
        "    + b\n",
        "    + c\n",
        "* Dos\n",
        "* Tres"
      ],
      "metadata": {}
    },
    {
      "cell_type": "raw",
      "source": [
        "+ Uno\n",
        "+ Dos \n",
        "+ Tres"
      ],
      "metadata": {}
    },
    {
      "cell_type": "markdown",
      "source": [
        "+ Uno\n",
        "+ Dos \n",
        "+ Tres"
      ],
      "metadata": {}
    },
    {
      "cell_type": "raw",
      "source": [
        "- Uno\n",
        "- Dos \n",
        "- Tres"
      ],
      "metadata": {}
    },
    {
      "cell_type": "markdown",
      "source": [
        "- Uno\n",
        "- Dos \n",
        "- Tres"
      ],
      "metadata": {}
    },
    {
      "cell_type": "markdown",
      "source": [
        "<center>**HTML**</center>"
      ],
      "metadata": {}
    },
    {
      "cell_type": "raw",
      "source": [
        "<ul>     \n",
        "  <li>Uno</li>  \n",
        "  <li>Dos</li>   \n",
        "  <li>Tres</li> \n",
        "</ul>"
      ],
      "metadata": {}
    },
    {
      "cell_type": "markdown",
      "source": [
        "<ul>   \n",
        "  <li>Uno</li>   \n",
        "  <li>Dos</li>    \n",
        "  <li>Tres</li> \n",
        " </ul>"
      ],
      "metadata": {}
    },
    {
      "cell_type": "markdown",
      "source": [
        "<hr style=\"height:3px\">\n",
        "# Listas enumeradas"
      ],
      "metadata": {}
    },
    {
      "cell_type": "markdown",
      "source": [
        "<center>**Markdown**</center>"
      ],
      "metadata": {}
    },
    {
      "cell_type": "raw",
      "source": [
        "1. Uno\n",
        "25. Dos\n",
        "3. Tres"
      ],
      "metadata": {}
    },
    {
      "cell_type": "markdown",
      "source": [
        "1. Uno\n",
        "25. Dos\n",
        "3. Tres"
      ],
      "metadata": {}
    },
    {
      "cell_type": "raw",
      "source": [
        "1. Uno  \n",
        "texto texto texto\n",
        "  \n",
        "1. Dos  \n",
        "texto texto texto\n",
        "\n",
        "3. Tres  \n",
        "texto texto texto"
      ],
      "metadata": {}
    },
    {
      "cell_type": "markdown",
      "source": [
        "1. Uno  \n",
        "texto texto texto\n",
        "  \n",
        "1. Dos  \n",
        "texto texto texto\n",
        "\n",
        "3. Tres  \n",
        "texto texto texto"
      ],
      "metadata": {}
    },
    {
      "cell_type": "markdown",
      "source": [
        "<center>**HTML**</center>"
      ],
      "metadata": {}
    },
    {
      "cell_type": "raw",
      "source": [
        "<ol> \n",
        "  <li>Uno</li>  \n",
        "  <li>Dos</li>   \n",
        "  <li>Tres</li> \n",
        " </ol>"
      ],
      "metadata": {}
    },
    {
      "cell_type": "markdown",
      "source": [
        "<ol>\n",
        "  <li>Uno</li>\n",
        "  <li>Dos</li>\n",
        "  <li>Tres</li> \n",
        "</ol>"
      ],
      "metadata": {}
    },
    {
      "cell_type": "raw",
      "source": [
        "<ol>\n",
        "<li> <p>Uno </p>  <p>texto texto texto</p>  </li>\n",
        "<li> <p>Dos </p>  <p>texto texto texto</p>  </li>\n",
        "<li> <p>Tres</p>  <p>texto texto texto</p>  </li>\n",
        "</ol>"
      ],
      "metadata": {}
    },
    {
      "cell_type": "markdown",
      "source": [
        "<ol>\n",
        "<li> <p>Uno </p>  <p>texto texto texto</p>  </li>\n",
        "<li> <p>Dos </p>  <p>texto texto texto</p>  </li>\n",
        "<li> <p>Tres</p>  <p>texto texto texto</p>  </li>\n",
        "</ol>"
      ],
      "metadata": {}
    },
    {
      "cell_type": "markdown",
      "source": [
        "<hr style=\"height:3px\">\n",
        "# Vínculos"
      ],
      "metadata": {}
    },
    {
      "cell_type": "markdown",
      "source": [
        "<center>**Markdown**</center>"
      ],
      "metadata": {}
    },
    {
      "cell_type": "raw",
      "source": [
        "Este es un vínculo a [GOOGLE](http://www.google.com)."
      ],
      "metadata": {}
    },
    {
      "cell_type": "markdown",
      "source": [
        "<center>**HTML**</center>"
      ],
      "metadata": {}
    },
    {
      "cell_type": "raw",
      "source": [
        "<p>Este es un vínculo a <a href=\"http://www.google.com\">GOOGLE</a>.</p>"
      ],
      "metadata": {}
    },
    {
      "cell_type": "markdown",
      "source": [
        "<center> **Resultado**"
      ],
      "metadata": {}
    },
    {
      "cell_type": "markdown",
      "source": [
        "<p>Este es un vínculo a <a href=\"http://www.google.com\">GOOGLE</a>.</p>"
      ],
      "metadata": {}
    },
    {
      "cell_type": "markdown",
      "source": [
        "<hr style=\"height:3px\">\n",
        "# Vínculos tipo referencia "
      ],
      "metadata": {}
    },
    {
      "cell_type": "markdown",
      "source": [
        "<center>**Markdown**</center>"
      ],
      "metadata": {}
    },
    {
      "cell_type": "raw",
      "source": [
        "Estos son vinculos referenciados a [Anaconda][1]  y [Python][2].\n",
        "\n",
        "[1]: https://www.continuum.io \"Continuum Analytics\"\n",
        "[2]: https://www.python.org \"Python Software Fundation\""
      ],
      "metadata": {}
    },
    {
      "cell_type": "markdown",
      "source": [
        "Estos son vinculos referenciados a [Anaconda][1]  y [Python][2].\n",
        "\n",
        "[1]: https://www.continuum.io \"Continuum Analytics\"\n",
        "[2]: https://www.python.org \"Python Software Fundation\""
      ],
      "metadata": {}
    },
    {
      "cell_type": "markdown",
      "source": [
        "<center>**HTML**</center>"
      ],
      "metadata": {}
    },
    {
      "cell_type": "raw",
      "source": [
        "<p>Estos son vinculos referenciados a <a href=\"https://www.continuum.io\" title=\"Anaconda\">Continuum Analytics</a> y <a href=\"https://www.python.org \" title=\"Python\"> Python Software Fundation</a>. <p>"
      ],
      "metadata": {}
    },
    {
      "cell_type": "markdown",
      "source": [
        "<p>Estos son vinculos referenciados a <a href=\"https://www.continuum.io\" title=\"Anaconda\">Continuum Analytics</a> y <a href=\"https://www.python.org \" title=\"Python\"> Python Software Fundation</a>. <p>"
      ],
      "metadata": {}
    },
    {
      "cell_type": "raw",
      "source": [
        "Written by <a href=\"mailto:webmaster@example.com\">Jon Doe</a>."
      ],
      "metadata": {}
    },
    {
      "cell_type": "markdown",
      "source": [
        "Written by <a href=\"mailto:webmaster@example.com\">Jon Doe</a>."
      ],
      "metadata": {}
    },
    {
      "cell_type": "markdown",
      "source": [
        "<hr style=\"height:3px\">\n",
        "# Vínculos internos"
      ],
      "metadata": {}
    },
    {
      "cell_type": "markdown",
      "source": [
        "<center>**Markdown**</center>"
      ],
      "metadata": {}
    },
    {
      "cell_type": "raw",
      "source": [
        "[vínculo a la seccion de abajo](#Imágenes)"
      ],
      "metadata": {}
    },
    {
      "cell_type": "markdown",
      "source": [
        "[vínculo a la seccion de abajo](#Imágenes)"
      ],
      "metadata": {}
    },
    {
      "cell_type": "raw",
      "source": [
        "blah blah blah  \n",
        "blah blah blah  \n",
        "blah blah blah  \n",
        "blah blah blah  \n",
        "blah blah blah  "
      ],
      "metadata": {}
    },
    {
      "cell_type": "markdown",
      "source": [
        "<hr style=\"height:3px\">\n",
        "# Imágenes"
      ],
      "metadata": {}
    },
    {
      "cell_type": "markdown",
      "source": [
        "<center>**Markdown**</center>"
      ],
      "metadata": {}
    },
    {
      "cell_type": "raw",
      "source": [
        "![alt text](bart.png \"Titulo\")  "
      ],
      "metadata": {}
    },
    {
      "cell_type": "markdown",
      "source": [
        "![alt text](bart.png \"Titulo\")  "
      ],
      "metadata": {}
    },
    {
      "cell_type": "markdown",
      "source": [
        "<center>**HTML**</center>"
      ],
      "metadata": {}
    },
    {
      "cell_type": "raw",
      "source": [
        "<img src=\"bart.png\" alt=\"alt text\" title=\"Titulo\" />  "
      ],
      "metadata": {}
    },
    {
      "cell_type": "markdown",
      "source": [
        "<img src=\"bart.png\" alt=\"alt text\" title=\"Titulo\" />  "
      ],
      "metadata": {}
    },
    {
      "cell_type": "raw",
      "source": [
        "<img src=\"bart.png\" alt=\"alt face\" height=\"42\" width=\"42\">"
      ],
      "metadata": {}
    },
    {
      "cell_type": "markdown",
      "source": [
        "<img src=\"bart.png\" alt=\"alt face\" height=\"42\" width=\"42\">"
      ],
      "metadata": {}
    },
    {
      "cell_type": "markdown",
      "source": [
        "**PDF enbebido usando HTML**"
      ],
      "metadata": {}
    },
    {
      "cell_type": "raw",
      "source": [
        "![alt text](bart.pdf) "
      ],
      "metadata": {}
    },
    {
      "cell_type": "markdown",
      "source": [
        "![alt text](bart.pdf)"
      ],
      "metadata": {}
    },
    {
      "cell_type": "markdown",
      "source": [
        "<hr style=\"height:3px\">\n",
        "# Código fuente y salida de programas"
      ],
      "metadata": {}
    },
    {
      "cell_type": "markdown",
      "source": [
        "<center>**Markdown**</center>"
      ],
      "metadata": {}
    },
    {
      "cell_type": "raw",
      "source": [
        "Se pueden crear bloques de código:\n",
        "\n",
        "    # agregar cuatro espacios al principio de linea\n",
        "    for (i = 1; i < 5; i++)\n",
        "    {\n",
        "        printf('%d', i)\n",
        "    }\n",
        "    \n",
        "O se puede colocar código en linea `cat out.1 out.2`.\n",
        "\n",
        "```\n",
        "Sample output from a computer program\n",
        "```"
      ],
      "metadata": {}
    },
    {
      "cell_type": "markdown",
      "source": [
        "<center>**HTML**</center>"
      ],
      "metadata": {}
    },
    {
      "cell_type": "raw",
      "source": [
        "<p>Se pueden crear bloques de código:</p>\n",
        "\n",
        "<code>\n",
        "    # agregar cuatro espacios al principio de linea\n",
        "    for (i = 1; i < 5; i++)\n",
        "    {\n",
        "        printf('%d', i)\n",
        "    }\n",
        "</code>\n",
        "\n",
        "O se puede colocar código en linea <code>cat out.1 out.2</code>.\n",
        "\n<samp>Sample output from a computer program</samp>"
      ],
      "metadata": {}
    },
    {
      "cell_type": "markdown",
      "source": [
        "<center> **Resultado**"
      ],
      "metadata": {}
    },
    {
      "cell_type": "markdown",
      "source": [
        "<p>Se pueden crear bloques de código:</p>\n",
        "\n",
        "<code>\n",
        "    # agregar cuatro espacios al principio de linea\n",
        "    for (i = 1; i < 5; i++)\n",
        "    {\n",
        "        printf('%d', i)\n",
        "    }\n",
        "</code>\n",
        "\n\n\n",
        "O se puede colocar código en linea <code>cat out.1 out.2</code>.\n",
        "\n\n<samp>Sample output from a computer program</samp>"
      ],
      "metadata": {}
    },
    {
      "cell_type": "markdown",
      "source": [
        "---"
      ],
      "metadata": {}
    },
    {
      "cell_type": "markdown",
      "source": [
        "<center>**GitHub Flavored Markdown**\n",
        "\nSe puede indicar el lenguaje y el sistema agrega sintaxis de colores."
      ],
      "metadata": {}
    },
    {
      "cell_type": "raw",
      "source": [
        "Ejemplo de código en linea:\n",
        "```javascript\n",
        "function fancyAlert(arg) {\n",
        "  if(arg) {\n",
        "    $.facebox({div:'#foo'})\n",
        "  }\n",
        "}\n",
        "```"
      ],
      "metadata": {}
    },
    {
      "cell_type": "markdown",
      "source": [
        "<center>**Resultado**"
      ],
      "metadata": {}
    },
    {
      "cell_type": "markdown",
      "source": [
        "Ejemplo de código en línea:\n",
        "```javascript\n",
        "function fancyAlert(arg) {\n",
        "  if(arg) {\n",
        "    $.facebox({div:'#foo'})\n",
        "  }\n",
        "}\n",
        "```"
      ],
      "metadata": {}
    },
    {
      "cell_type": "markdown",
      "source": [
        "<hr style=\"height:3px\">\n",
        "# Latex"
      ],
      "metadata": {}
    },
    {
      "cell_type": "markdown",
      "source": [
        "Una guía completa sobre latex puede ser encontrada [aquí](http://ftp.ams.org/pub/tex/doc/amsmath/short-math-guide.pdf)."
      ],
      "metadata": {}
    },
    {
      "cell_type": "markdown",
      "source": [
        "<center>**Markdown**</center>"
      ],
      "metadata": {}
    },
    {
      "cell_type": "raw",
      "source": [
        "$$x^2$$"
      ],
      "metadata": {}
    },
    {
      "cell_type": "markdown",
      "source": [
        "$$x^2$$"
      ],
      "metadata": {}
    },
    {
      "cell_type": "raw",
      "source": [
        "$$\\frac{1}{x^2} \\int{\\exp{x^n}} dx$$"
      ],
      "metadata": {}
    },
    {
      "cell_type": "markdown",
      "source": [
        "$$\\frac{1}{x^2} \\int{\\exp{x^n}} dx$$"
      ],
      "metadata": {}
    },
    {
      "cell_type": "markdown",
      "source": [
        "<hr style=\"height:3px\">\n",
        "# Tablas"
      ],
      "metadata": {}
    },
    {
      "cell_type": "markdown",
      "source": [
        "<center>**Markdown**</center>"
      ],
      "metadata": {}
    },
    {
      "cell_type": "raw",
      "source": [
        "titulo 1 MUY MUY LARGO | titulo 2\n",
        ":--------: | -------\n",
        "celda 1-1 | celda 1-2\n",
        "celda 2-1 | celda 2-2"
      ],
      "metadata": {}
    },
    {
      "cell_type": "markdown",
      "source": [
        "titulo 1 MUY MUY LARGO | titulo 2\n",
        ":--------: | -------\n",
        "celda 1-1 | celda 1-2\n",
        "celda 2-1 | celda 2-2"
      ],
      "metadata": {}
    },
    {
      "cell_type": "markdown",
      "source": [
        "<center>**HTML**</center>"
      ],
      "metadata": {}
    },
    {
      "cell_type": "raw",
      "source": [
        "<table>\n",
        "<tr>\n",
        "  <th>January <dialog open>This is an open dialog window</dialog></th>\n",
        "  <th>February</th>\n",
        "  <th>March</th>\n",
        "</tr>\n",
        "<tr>\n",
        "  <td>31</td>\n",
        "  <td>28</td>\n",
        "  <td>31</td>\n",
        "</tr>\n",
        "</table>"
      ],
      "metadata": {}
    },
    {
      "cell_type": "markdown",
      "source": [
        "<table>\n",
        "<tr>\n",
        "  <th>January <dialog open>This is an open dialog window</dialog></th>\n",
        "  <th>February</th>\n",
        "  <th>March</th>\n",
        "</tr>\n",
        "<tr>\n",
        "  <td>31</td>\n",
        "  <td>28</td>\n",
        "  <td>31</td>\n",
        "</tr>\n",
        "</table>"
      ],
      "metadata": {}
    },
    {
      "cell_type": "raw",
      "source": [
        "<table>\n",
        "  <colgroup>\n",
        "    <col span=\"2\" style=\"background-color:red\">\n",
        "    <col style=\"background-color:yellow\">\n",
        "  </colgroup>\n",
        "  <tr>\n",
        "    <th>ISBN</th>\n",
        "    <th>Title</th>\n",
        "    <th>Price</th>\n",
        "  </tr>\n",
        "  <tr>\n",
        "    <td>3476896</td>\n",
        "    <td>My first HTML</td>\n",
        "    <td>$53</td>\n",
        "  </tr>\n",
        "</table>"
      ],
      "metadata": {}
    },
    {
      "cell_type": "markdown",
      "source": [
        "<table>\n",
        "  <colgroup>\n",
        "    <col span=\"2\" style=\"background-color:red\">\n",
        "    <col style=\"background-color:yellow\">\n",
        "  </colgroup>\n",
        "  <tr>\n",
        "    <th>ISBN</th>\n",
        "    <th>Title</th>\n",
        "    <th>Price</th>\n",
        "  </tr>\n",
        "  <tr>\n",
        "    <td>3476896</td>\n",
        "    <td>My first HTML</td>\n",
        "    <td>$53</td>\n",
        "  </tr>\n",
        "</table>"
      ],
      "metadata": {}
    },
    {
      "cell_type": "raw",
      "source": [
        "<table>\n",
        "  <caption>Monthly savings</caption>\n",
        "  <tr>\n",
        "    <th>Month</th>\n",
        "    <th>Savings</th>\n",
        "  </tr>\n",
        "  <tr>\n",
        "    <td>January</td>\n",
        "    <td>$100</td>\n",
        "  </tr>\n",
        "</table>"
      ],
      "metadata": {}
    },
    {
      "cell_type": "markdown",
      "source": [
        "<table>\n",
        "  <caption>Monthly savings</caption>\n",
        "  <tr>\n",
        "    <th>Month</th>\n",
        "    <th>Savings</th>\n",
        "  </tr>\n",
        "  <tr>\n",
        "    <td>January</td>\n",
        "    <td>$100</td>\n",
        "  </tr>\n",
        "</table>"
      ],
      "metadata": {}
    },
    {
      "cell_type": "markdown",
      "source": [
        "<hr style=\"height:3px\">\n",
        "# Lineas horizontales"
      ],
      "metadata": {}
    },
    {
      "cell_type": "markdown",
      "source": [
        "<center>**Markdown**</center>"
      ],
      "metadata": {}
    },
    {
      "cell_type": "raw",
      "source": [
        "***\n",
        "\n---"
      ],
      "metadata": {}
    },
    {
      "cell_type": "markdown",
      "source": [
        "***\n",
        "\n---"
      ],
      "metadata": {}
    },
    {
      "cell_type": "markdown",
      "source": [
        "<center>**HTML**</center>"
      ],
      "metadata": {}
    },
    {
      "cell_type": "raw",
      "source": [
        "<hr style=\"height:1px\">\n",
        "\n",
        "<hr style=\"height:1px;background-color:red\">\n",
        "\n<hr style=\"height:3px;border:3px dotted;color:black;background-color:red;\">"
      ],
      "metadata": {}
    },
    {
      "cell_type": "markdown",
      "source": [
        "<hr style=\"height:1px\">\n",
        "\n",
        "<hr style=\"height:1px;background-color:red\">\n",
        "\n<hr style=\"height:3px;border:3px dotted;color:black;background-color:red;\">"
      ],
      "metadata": {}
    },
    {
      "cell_type": "markdown",
      "source": [
        "<hr style=\"height:3px\">\n",
        "# Ejemplos de HTML sin equivalentes en Markdown"
      ],
      "metadata": {}
    },
    {
      "cell_type": "raw",
      "source": [
        "<center> Texto centrado </center>"
      ],
      "metadata": {}
    },
    {
      "cell_type": "markdown",
      "source": [
        "<center> Texto centrado </center>"
      ],
      "metadata": {}
    },
    {
      "cell_type": "markdown",
      "source": [
        "---"
      ],
      "metadata": {}
    },
    {
      "cell_type": "raw",
      "source": [
        "<left>text</left>"
      ],
      "metadata": {}
    },
    {
      "cell_type": "markdown",
      "source": [
        "<left>text</left>"
      ],
      "metadata": {}
    },
    {
      "cell_type": "markdown",
      "source": [
        "---"
      ],
      "metadata": {}
    },
    {
      "cell_type": "raw",
      "source": [
        "<br>\n",
        "<br>\n",
        "texto\n",
        "<br>\n",
        "<br>"
      ],
      "metadata": {}
    },
    {
      "cell_type": "markdown",
      "source": [
        "<br>\n",
        "<br>\n",
        "texto\n",
        "<br>\n",
        "<br>"
      ],
      "metadata": {}
    },
    {
      "cell_type": "markdown",
      "source": [
        "---"
      ],
      "metadata": {}
    },
    {
      "cell_type": "raw",
      "source": [
        "<small><small><small> texto pequeño</small></small></small>"
      ],
      "metadata": {}
    },
    {
      "cell_type": "markdown",
      "source": [
        "<small><small><small> texto pequeño</small></small></small>"
      ],
      "metadata": {}
    },
    {
      "cell_type": "markdown",
      "source": [
        "---"
      ],
      "metadata": {}
    },
    {
      "cell_type": "raw",
      "source": [
        "<p> Texto<sub>Texto</sub>   Texto<sup>Texto</sup>  </p>"
      ],
      "metadata": {}
    },
    {
      "cell_type": "markdown",
      "source": [
        "<p> Texto<sub>Texto</sub>   Texto<sup>Texto</sup>  </p>"
      ],
      "metadata": {}
    },
    {
      "cell_type": "markdown",
      "source": [
        "<!-- comentario -->"
      ],
      "metadata": {}
    },
    {
      "cell_type": "markdown",
      "source": [
        "---"
      ],
      "metadata": {}
    },
    {
      "cell_type": "raw",
      "source": [
        "<big> BIG </big>"
      ],
      "metadata": {}
    },
    {
      "cell_type": "markdown",
      "source": [
        "<big> BIG </big>"
      ],
      "metadata": {}
    },
    {
      "cell_type": "markdown",
      "source": [
        "---"
      ],
      "metadata": {}
    },
    {
      "cell_type": "raw",
      "source": [
        "texto <del>XXX</del>"
      ],
      "metadata": {}
    },
    {
      "cell_type": "markdown",
      "source": [
        "texto <del>XXX</del>"
      ],
      "metadata": {}
    },
    {
      "cell_type": "markdown",
      "source": [
        "---"
      ],
      "metadata": {}
    },
    {
      "cell_type": "raw",
      "source": [
        "texto <ins>XXX</ins>  \n",
        "texto <u>XXX</u>"
      ],
      "metadata": {}
    },
    {
      "cell_type": "markdown",
      "source": [
        "texto <ins>XXX</ins>  \n",
        "texto <u>XXX</u>"
      ],
      "metadata": {}
    },
    {
      "cell_type": "markdown",
      "source": [
        "---"
      ],
      "metadata": {}
    },
    {
      "cell_type": "raw",
      "source": [
        "texto <mark> highlighted </mark>"
      ],
      "metadata": {}
    },
    {
      "cell_type": "markdown",
      "source": [
        "texto <mark> highlighted </mark>"
      ],
      "metadata": {}
    },
    {
      "cell_type": "markdown",
      "source": [
        "---"
      ],
      "metadata": {}
    },
    {
      "cell_type": "raw",
      "source": [
        "<div align=\"right\">Texto alineado a la derecha.</div>"
      ],
      "metadata": {}
    },
    {
      "cell_type": "markdown",
      "source": [
        "<div align=\"right\">Texto alineado a la derecha.</div>"
      ],
      "metadata": {}
    },
    {
      "cell_type": "markdown",
      "source": [
        "---"
      ],
      "metadata": {}
    },
    {
      "cell_type": "raw",
      "source": [
        "<dl>\n",
        "  <dt>Coffee</dt>\n",
        "  <dd>Black hot drink</dd>\n",
        "  <dt>Milk</dt>\n",
        "  <dd>White cold drink</dd>\n",
        "</dl>"
      ],
      "metadata": {}
    },
    {
      "cell_type": "markdown",
      "source": [
        "<dl>\n",
        "  <dt>Coffee</dt>\n",
        "  <dd>Black hot drink</dd>\n",
        "  <dt>Milk</dt>\n",
        "  <dd>White cold drink</dd>\n",
        "</dl>"
      ],
      "metadata": {}
    },
    {
      "cell_type": "markdown",
      "source": [
        "---"
      ],
      "metadata": {}
    },
    {
      "cell_type": "raw",
      "source": [
        "<footer>\n",
        "  <p>Posted by: Hege Refsnes</p>\n",
        "  <p>Contact information: <a href=\"mailto:someone@example.com\">\n",
        "  someone@example.com</a>.</p>\n",
        "</footer>"
      ],
      "metadata": {}
    },
    {
      "cell_type": "markdown",
      "source": [
        "<footer>\n",
        "  <p>Posted by: Hege Refsnes</p>\n",
        "  <p>Contact information: <a href=\"mailto:someone@example.com\">\n",
        "  someone@example.com</a>.</p>\n",
        "</footer>"
      ],
      "metadata": {}
    },
    {
      "cell_type": "markdown",
      "source": [
        "---"
      ],
      "metadata": {}
    },
    {
      "cell_type": "raw",
      "source": [
        "<p>Do not forget to buy <mark>milk</mark> today.</p>"
      ],
      "metadata": {}
    },
    {
      "cell_type": "markdown",
      "source": [
        "<p>Do not forget to buy <mark>milk</mark> today.</p>"
      ],
      "metadata": {}
    },
    {
      "cell_type": "markdown",
      "source": [
        "---"
      ],
      "metadata": {}
    },
    {
      "cell_type": "raw",
      "source": [
        "<p>My mother has <span style=\"color:blue\">blue</span> eyes.</p>"
      ],
      "metadata": {}
    },
    {
      "cell_type": "markdown",
      "source": [
        "<p>My mother has <span style=\"color:blue\">blue</span> eyes.</p>"
      ],
      "metadata": {}
    },
    {
      "cell_type": "markdown",
      "source": [
        "---"
      ],
      "metadata": {}
    },
    {
      "cell_type": "raw",
      "source": [
        "<div style=\"width:200px;height:100px;padding:10px;border:1px dotted black;\">\n",
        "Box with a border\n",
        "</div>"
      ],
      "metadata": {}
    },
    {
      "cell_type": "markdown",
      "source": [
        "<div style=\"width:200px;height:100px;padding:10px;border:1px dotted black;\">\n",
        "Box with a border\n",
        "</div>"
      ],
      "metadata": {}
    },
    {
      "cell_type": "markdown",
      "source": [
        "---"
      ],
      "metadata": {}
    },
    {
      "cell_type": "raw",
      "source": [
        "<div style=\"width:200px;height:100px;padding:10px;border:1px dashed yellowgreen;\">\n",
        "Box with a border\n",
        "</div>"
      ],
      "metadata": {}
    },
    {
      "cell_type": "markdown",
      "source": [
        "<div style=\"width:200px;height:100px;padding:10px;border:1px dashed yellowgreen;\">\n",
        "Box with a border\n",
        "</div>"
      ],
      "metadata": {}
    },
    {
      "cell_type": "markdown",
      "source": [
        "---"
      ],
      "metadata": {}
    },
    {
      "cell_type": "raw",
      "source": [
        "<div style=\"width:200px;height:100px;padding:10px;border:10px double yellowgreen;\">\n",
        "Box with a border\n",
        "</div>"
      ],
      "metadata": {}
    },
    {
      "cell_type": "markdown",
      "source": [
        "<div style=\"width:200px;height:100px;padding:10px;border:10px double yellowgreen;\">\n",
        "Box with a border\n",
        "</div>"
      ],
      "metadata": {}
    },
    {
      "cell_type": "markdown",
      "source": [
        "---"
      ],
      "metadata": {}
    },
    {
      "cell_type": "raw",
      "source": [
        "<details>\n",
        "  <summary>Copyright 1999-2014.</summary>\n",
        "  <p> - by Refsnes Data. All Rights Reserved.</p>\n",
        "  <p>All content and graphics on this web site are the property of the company Refsnes Data.</p>\n",
        "</details>"
      ],
      "metadata": {}
    },
    {
      "cell_type": "markdown",
      "source": [
        "<details>\n",
        "  <summary>Copyright 1999-2014.</summary>\n",
        "  <p> - by Refsnes Data. All Rights Reserved.</p>\n",
        "  <p>All content and graphics on this web site are the property of the company Refsnes Data.</p>\n",
        "</details>"
      ],
      "metadata": {}
    },
    {
      "cell_type": "markdown",
      "source": [
        "---"
      ],
      "metadata": {}
    },
    {
      "cell_type": "raw",
      "source": [
        "<h1>HTML</h1>\n",
        "<p>HTML is a language for describing web pages.....</p>\n",
        "<h1>CSS</h1>\n",
        "<p>CSS defines how to display HTML elements.....</p>"
      ],
      "metadata": {}
    },
    {
      "cell_type": "markdown",
      "source": [
        "<h1>HTML</h1>\n",
        "<p>HTML is a language for describing web pages.....</p>\n",
        "<h1>CSS</h1>\n",
        "<p>CSS defines how to display HTML elements.....</p>"
      ],
      "metadata": {}
    },
    {
      "cell_type": "raw",
      "source": [
        "<p>He named his car <i>The lightning</i>, because it was very fast.</p>"
      ],
      "metadata": {}
    },
    {
      "cell_type": "markdown",
      "source": [
        "<p>He named his car <i>The lightning</i>, because it was very fast.</p>"
      ],
      "metadata": {}
    },
    {
      "cell_type": "markdown",
      "source": [
        "---"
      ],
      "metadata": {}
    },
    {
      "cell_type": "raw",
      "source": [
        "<kbd>Keyboard input</kbd>"
      ],
      "metadata": {}
    },
    {
      "cell_type": "markdown",
      "source": [
        "<kbd>Keyboard input</kbd>"
      ],
      "metadata": {}
    },
    {
      "cell_type": "markdown",
      "source": [
        "---"
      ],
      "metadata": {}
    },
    {
      "cell_type": "raw",
      "source": [
        "<nav>\n",
        "  <a href=\"/html/\">HTML</a> |\n",
        "  <a href=\"/css/\">CSS</a> |\n",
        "  <a href=\"/js/\">JavaScript</a> |\n",
        "  <a href=\"/jquery/\">jQuery</a>\n",
        "</nav>"
      ],
      "metadata": {}
    },
    {
      "cell_type": "markdown",
      "source": [
        "<nav>\n",
        "  <a href=\"/html/\">HTML</a> |\n",
        "  <a href=\"/css/\">CSS</a> |\n",
        "  <a href=\"/js/\">JavaScript</a> |\n",
        "  <a href=\"/jquery/\">jQuery</a>\n",
        "</nav>"
      ],
      "metadata": {}
    },
    {
      "cell_type": "markdown",
      "source": [
        "---"
      ],
      "metadata": {}
    },
    {
      "cell_type": "raw",
      "source": [
        "<ol>\n",
        "  <li>Coffee</li>\n",
        "  <li>Tea</li>\n",
        "  <li>Milk</li>\n",
        "</ol>\n",
        "\n",
        "<ol start=\"50\">\n",
        "  <li>Coffee</li>\n",
        "  <li>Tea</li>\n",
        "  <li>Milk</li>\n",
        "</ol>"
      ],
      "metadata": {}
    },
    {
      "cell_type": "markdown",
      "source": [
        "<ol>\n",
        "  <li>Coffee</li>\n",
        "  <li>Tea</li>\n",
        "  <li>Milk</li>\n",
        "</ol>\n",
        "\n",
        "<ol start=\"50\">\n",
        "  <li>Coffee</li>\n",
        "  <li>Tea</li>\n",
        "  <li>Milk</li>\n",
        "</ol>"
      ],
      "metadata": {}
    },
    {
      "cell_type": "markdown",
      "source": [
        "---"
      ],
      "metadata": {}
    },
    {
      "cell_type": "raw",
      "source": [
        "<select>\n",
        "  <optgroup label=\"Swedish Cars\">\n",
        "    <option value=\"volvo\">Volvo</option>\n",
        "    <option value=\"saab\">Saab</option>\n",
        "  </optgroup>\n",
        "  <optgroup label=\"German Cars\">\n",
        "    <option value=\"mercedes\">Mercedes</option>\n",
        "    <option value=\"audi\">Audi</option>\n",
        "  </optgroup>\n",
        "</select>"
      ],
      "metadata": {}
    },
    {
      "cell_type": "markdown",
      "source": [
        "<select>\n",
        "  <optgroup label=\"Swedish Cars\">\n",
        "    <option value=\"volvo\">Volvo</option>\n",
        "    <option value=\"saab\">Saab</option>\n",
        "  </optgroup>\n",
        "  <optgroup label=\"German Cars\">\n",
        "    <option value=\"mercedes\">Mercedes</option>\n",
        "    <option value=\"audi\">Audi</option>\n",
        "  </optgroup>\n",
        "</select>"
      ],
      "metadata": {}
    },
    {
      "cell_type": "markdown",
      "source": [
        "---"
      ],
      "metadata": {}
    },
    {
      "cell_type": "raw",
      "source": [
        "<select>\n",
        "  <option value=\"volvo\">Volvo</option>\n",
        "  <option value=\"saab\">Saab</option>\n",
        "  <option value=\"opel\">Opel</option>\n",
        "  <option value=\"audi\">Audi</option>\n",
        "</select>"
      ],
      "metadata": {}
    },
    {
      "cell_type": "markdown",
      "source": [
        "<select>\n",
        "  <option value=\"volvo\">Volvo</option>\n",
        "  <option value=\"saab\">Saab</option>\n",
        "  <option value=\"opel\">Opel</option>\n",
        "  <option value=\"audi\">Audi</option>\n",
        "</select>"
      ],
      "metadata": {}
    },
    {
      "cell_type": "raw",
      "source": [
        "<form oninput=\"x.value=parseInt(a.value)+parseInt(b.value)\">0\n",
        "  <input type=\"range\" id=\"a\" value=\"50\">100\n",
        "  +<input type=\"number\" id=\"b\" value=\"50\">\n",
        "  =<output name=\"x\" for=\"a b\"></output>\n",
        "</form>"
      ],
      "metadata": {}
    },
    {
      "cell_type": "markdown",
      "source": [
        "<form oninput=\"x.value=parseInt(a.value)+parseInt(b.value)\">0\n",
        "  <input type=\"range\" id=\"a\" value=\"50\">100\n",
        "  +<input type=\"number\" id=\"b\" value=\"50\">\n",
        "  =<output name=\"x\" for=\"a b\"></output>\n",
        "</form>"
      ],
      "metadata": {}
    },
    {
      "cell_type": "raw",
      "source": [
        "<progress value=\"22\" max=\"100\"></progress>"
      ],
      "metadata": {}
    },
    {
      "cell_type": "markdown",
      "source": [
        "<progress value=\"22\" max=\"100\"></progress>"
      ],
      "metadata": {}
    },
    {
      "cell_type": "markdown",
      "source": [
        "---"
      ],
      "metadata": {}
    },
    {
      "cell_type": "markdown",
      "source": [
        "Markdown y html en Jupyter notebooks\n",
        "===\n",
        "\n",
        "**Juan David Velásquez Henao**  \n",
        "jdvelasq@unal.edu.co   \n",
        "Universidad Nacional de Colombia, Sede Medellín  \n",
        "Facultad de Minas  \n",
        "Medellín, Colombia\n",
        "\n",
        "---\n",
        "\n",
        "Haga click [aquí](https://github.com/jdvelasq/IPython-for-data-science/blob/master/11-markdown-y-html.ipynb) para acceder a la última versión online\n",
        "\n",
        "Haga click [aquí](http://nbviewer.jupyter.org/github/jdvelasq/IPython-for-data-science/blob/master/11-markdown-y-html.ipynb) para ver la última versión online en `nbviewer`. \n",
        "\n---"
      ],
      "metadata": {}
    }
  ],
  "metadata": {
    "kernelspec": {
      "name": "python3",
      "language": "python",
      "display_name": "Python 3"
    },
    "language_info": {
      "name": "python",
      "version": "3.6.3",
      "mimetype": "text/x-python",
      "codemirror_mode": {
        "name": "ipython",
        "version": 3
      },
      "pygments_lexer": "ipython3",
      "nbconvert_exporter": "python",
      "file_extension": ".py"
    },
    "kernel_info": {
      "name": "python3"
    },
    "nteract": {
      "version": "0.7.1"
    }
  },
  "nbformat": 4,
  "nbformat_minor": 1
}