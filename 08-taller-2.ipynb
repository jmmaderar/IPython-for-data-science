{
  "cells": [
    {
      "cell_type": "markdown",
      "source": [
        "Taller 2\n",
        "===\n",
        "\n",
        "**Juan David Velásquez Henao**  \n",
        "jdvelasq@unal.edu.co   \n",
        "Universidad Nacional de Colombia, Sede Medellín  \n",
        "Facultad de Minas  \n",
        "Medellín, Colombia\n",
        "\n",
        "---\n",
        "\n",
        "Haga click [aquí](https://github.com/jdvelasq/IPython-for-data-science/blob/master/08-taller-2.ipynb) para acceder a la última versión online\n",
        "\n",
        "Haga click [aquí](http://nbviewer.jupyter.org/github/jdvelasq/IPython-for-data-science/blob/master/08-taller-2.ipynb) para ver la última versión online en `nbviewer`. \n",
        "\n---"
      ],
      "metadata": {}
    },
    {
      "cell_type": "markdown",
      "source": [
        "Para realizar el siguiente taller usando IPython, usted debe procesar los archivos Aportes_Diario_ano.xlxs y generar una sola tabla que contenga toda la información."
      ],
      "metadata": {}
    },
    {
      "cell_type": "markdown",
      "source": [
        "**1.--** Cuántos registros hay en total?"
      ],
      "metadata": {}
    },
    {
      "cell_type": "markdown",
      "source": [
        "**2.--** Cuántas regiones hidrológicas diferentes hay?"
      ],
      "metadata": {}
    },
    {
      "cell_type": "markdown",
      "source": [
        "**3.--** Cuántos rios hay?"
      ],
      "metadata": {}
    },
    {
      "cell_type": "markdown",
      "source": [
        "**4.--** Cuántos registros hay por región hidrológica?"
      ],
      "metadata": {}
    },
    {
      "cell_type": "markdown",
      "source": [
        "**5.--** Cuál es el promedio de aportes en energía kWh por región?"
      ],
      "metadata": {}
    },
    {
      "cell_type": "markdown",
      "source": [
        "**6.--** Cuáles registros no tienen datos?"
      ],
      "metadata": {}
    },
    {
      "cell_type": "markdown",
      "source": [
        "**7.--** Grafique (gráfico de barras) la producción promedio por región hidrológica?"
      ],
      "metadata": {}
    },
    {
      "cell_type": "markdown",
      "source": [
        "---"
      ],
      "metadata": {}
    },
    {
      "cell_type": "markdown",
      "source": [
        "Taller 2\n",
        "===\n",
        "\n",
        "**Juan David Velásquez Henao**  \n",
        "jdvelasq@unal.edu.co   \n",
        "Universidad Nacional de Colombia, Sede Medellín  \n",
        "Facultad de Minas  \n",
        "Medellín, Colombia\n",
        "\n",
        "---\n",
        "\n",
        "Haga click [aquí](https://github.com/jdvelasq/IPython-for-data-science/blob/master/08-taller-2.ipynb) para acceder a la última versión online\n",
        "\n",
        "Haga click [aquí](http://nbviewer.jupyter.org/github/jdvelasq/IPython-for-data-science/blob/master/08-taller-2.ipynb) para ver la última versión online en `nbviewer`. \n",
        "\n---"
      ],
      "metadata": {}
    }
  ],
  "metadata": {
    "kernelspec": {
      "name": "python3",
      "language": "python",
      "display_name": "Python 3"
    },
    "language_info": {
      "name": "python",
      "version": "3.6.3",
      "mimetype": "text/x-python",
      "codemirror_mode": {
        "name": "ipython",
        "version": 3
      },
      "pygments_lexer": "ipython3",
      "nbconvert_exporter": "python",
      "file_extension": ".py"
    },
    "kernel_info": {
      "name": "python3"
    },
    "nteract": {
      "version": "0.7.1"
    }
  },
  "nbformat": 4,
  "nbformat_minor": 1
}