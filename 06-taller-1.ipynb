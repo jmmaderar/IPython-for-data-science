{
  "cells": [
    {
      "cell_type": "markdown",
      "source": [
        "Taller 1\n",
        "===\n",
        "\n",
        "**Juan David Velásquez Henao**  \n",
        "jdvelasq@unal.edu.co   \n",
        "Universidad Nacional de Colombia, Sede Medellín  \n",
        "Facultad de Minas  \n",
        "Medellín, Colombia\n",
        "\n",
        "---\n",
        "\n",
        "Haga click [aquí](https://github.com/jdvelasq/IPython-for-data-science/blob/master/06-taller-1.ipynb) para acceder a la última versión online\n",
        "\n",
        "Haga click [aquí](http://nbviewer.jupyter.org/github/jdvelasq/IPython-for-data-science/blob/master/06-taller-1.ipynb) para ver la última versión online en `nbviewer`. \n",
        "\n---"
      ],
      "metadata": {}
    },
    {
      "cell_type": "markdown",
      "source": [
        "**Ejercicio 1.--** Escriba una funcion en Python que reciba como argumento el nombre de un archivo en CSV y lo transforme a comandos SQL con el fin de insertar los datos en una base de datos. Para probar la función, cree un archivo CSV con el siguiente contenido:\n",
        "\n",
        "    nombre;pais;telefono\n",
        "    Mcdonald, Bertha V.;Tonga;16590927 3665\n",
        "    Gay, Quynn Y.;Côte D'Ivoire (Ivory Coast);16230713 0019\n",
        "    Hartman, Samson S.;Turkey;16260322 7477\n",
        "    Mckay, Brennan Z.;Åland Islands;16941114 8308\n",
        "    Daugherty, Ann H.;Venezuela;16180422 9555\n",
        "    Justice, George F.;United Arab Emirates;16630629 5806\n",
        "    Bailey, Jacqueline S.;Timor-Leste;16390230 5097\n",
        "    Sears, Sawyer X.;Montserrat;16510427 2249\n",
        "    Townsend, Stephen K.;Pitcairn Islands;16570616 8084\n",
        "    Barrett, Howard L.;Uzbekistan;16000221 2991\n",
        "    Kim, Xanthus P.;New Caledonia;16191009 2806\n",
        "    Hurst, Coby M.;Montenegro;16740102 8910"
      ],
      "metadata": {}
    },
    {
      "cell_type": "markdown",
      "source": [
        "**Ejercicio 2.--** Escriba una funcion en Python que reciba como argumento el nombre de un archivo en CSV y lo transforme a una tabla en HTML (un ejemplo es presentado en el próximo ejercicio). Para probar la función, cree un archivo CSV con el siguiente contenido:\n",
        "\n",
        "    nombre;pais;telefono\n",
        "    Mcdonald, Bertha V.;Tonga;16590927 3665\n",
        "    Gay, Quynn Y.;Côte D'Ivoire (Ivory Coast);16230713 0019\n",
        "    Hartman, Samson S.;Turkey;16260322 7477\n",
        "    Mckay, Brennan Z.;Åland Islands;16941114 8308\n",
        "    Daugherty, Ann H.;Venezuela;16180422 9555\n",
        "    Justice, George F.;United Arab Emirates;16630629 5806\n",
        "    Bailey, Jacqueline S.;Timor-Leste;16390230 5097\n",
        "    Sears, Sawyer X.;Montserrat;16510427 2249\n",
        "    Townsend, Stephen K.;Pitcairn Islands;16570616 8084\n",
        "    Barrett, Howard L.;Uzbekistan;16000221 2991\n",
        "    Kim, Xanthus P.;New Caledonia;16191009 2806\n",
        "    Hurst, Coby M.;Montenegro;16740102 8910\n"
      ],
      "metadata": {}
    },
    {
      "cell_type": "markdown",
      "source": [
        "**Ejercicio 3.--** Escriba una funcion en Python que reciba como argumento el nombre de un archivo en HTML y lo transforme a un archivo CSV. Para probar la función, cree un archivo con el siguiente contenido:\n",
        "\n",
        "    <table cellpadding=\"1\" cellspacing=\"1\">\n",
        "    <tr>\n",
        "\t    <th>nombre</th>\n",
        "\t    <th>pais</th>\n",
        "\t    <th>telefono</th>\n",
        "    </tr>\n",
        "    <tr>\n",
        "\t    <td>Bowman, Baker A.</td>\n",
        "\t    <td>Kazakhstan</td>\n",
        "\t    <td>16581202 2076</td>\n",
        "    </tr>\n",
        "    <tr>\n",
        "\t    <td>Malone, Jermaine G.</td>\n",
        "\t    <td>Myanmar</td>\n",
        "\t    <td>16370203 0648</td>\n",
        "    </tr>\n",
        "    <tr>\n",
        "\t    <td>Mejia, Trevor H.</td>\n",
        "\t    <td>Saint Martin</td>\n",
        "\t    <td>16900922 1780</td>\n",
        "    </tr>\n",
        "    <tr>\n",
        "\t    <td>Jarvis, Christine U.</td>\n",
        "\t    <td>Greenland</td>\n",
        "\t    <td>16401003 3258</td>\n",
        "    </tr>\n",
        "    <tr>\n",
        "\t    <td>Mccullough, Blaze W.</td>\n",
        "\t    <td>United Arab Emirates</td>\n",
        "\t    <td>16890809 9644</td>\n",
        "    </tr>\n",
        "    </table>\n"
      ],
      "metadata": {
        "collapsed": false,
        "outputHidden": false,
        "inputHidden": false
      }
    },
    {
      "cell_type": "markdown",
      "source": [
        "---"
      ],
      "metadata": {}
    },
    {
      "cell_type": "markdown",
      "source": [
        "Taller 1\n",
        "===\n",
        "\n",
        "**Juan David Velásquez Henao**  \n",
        "jdvelasq@unal.edu.co   \n",
        "Universidad Nacional de Colombia, Sede Medellín  \n",
        "Facultad de Minas  \n",
        "Medellín, Colombia\n",
        "\n",
        "---\n",
        "\n",
        "Haga click [aquí](https://github.com/jdvelasq/IPython-for-data-science/blob/master/06-taller-1.ipynb) para acceder a la última versión online\n",
        "\n",
        "Haga click [aquí](http://nbviewer.jupyter.org/github/jdvelasq/IPython-for-data-science/blob/master/06-taller-1.ipynb) para ver la última versión online en `nbviewer`. \n",
        "\n---"
      ],
      "metadata": {}
    }
  ],
  "metadata": {
    "kernelspec": {
      "name": "python3",
      "language": "python",
      "display_name": "Python 3"
    },
    "language_info": {
      "name": "python",
      "version": "3.6.3",
      "mimetype": "text/x-python",
      "codemirror_mode": {
        "name": "ipython",
        "version": 3
      },
      "pygments_lexer": "ipython3",
      "nbconvert_exporter": "python",
      "file_extension": ".py"
    },
    "kernel_info": {
      "name": "python3"
    },
    "nteract": {
      "version": "0.7.1"
    }
  },
  "nbformat": 4,
  "nbformat_minor": 1
}